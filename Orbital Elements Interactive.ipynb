{
 "cells": [
  {
   "cell_type": "code",
   "execution_count": 1,
   "metadata": {},
   "outputs": [],
   "source": [
    "from __future__ import print_function\n",
    "from ipywidgets import interact, interactive, fixed, interact_manual\n",
    "from mpl_toolkits import mplot3d\n",
    "import ipywidgets as widgets\n",
    "\n",
    "import numpy as np\n",
    "import matplotlib.pyplot as plt"
   ]
  },
  {
   "cell_type": "code",
   "execution_count": 12,
   "metadata": {},
   "outputs": [],
   "source": [
    "def getEA(e,a,f):\n",
    "    \n",
    "    entries=50\n",
    "    y=np.zeros(entries)\n",
    "    x=np.zeros(entries)\n",
    "    vals=[e,a,f]\n",
    "    if e<1:\n",
    "        theta=np.linspace(0,2*np.pi,entries)\n",
    "    else:\n",
    "        theta=np.linspace(-np.pi*np.sqrt(2)/2,np.pi*np.sqrt(2)/2,entries)\n",
    "        f=(f)*(np.sqrt(2)/2)\n",
    "    p=np.abs(a*(1-(e**2)))\n",
    "    planet=plt.Circle((0,0),a*.06, color='black')\n",
    "    \n",
    "    \n",
    "    if e==1:\n",
    "        \n",
    "        for c in range(entries):\n",
    "            p=np.abs(a*-.2)\n",
    "            r=(p)/(1+(e*np.cos(theta[c])))\n",
    "            x[c]=r*np.cos(theta[c])\n",
    "            y[c]=r*np.sin(theta[c])\n",
    "            #planet=plt.Circle((0,0),a*.08)\n",
    "    else:\n",
    "        for c in range(entries):\n",
    "            \n",
    "            r=p/(1+(e*np.cos(theta[c])))\n",
    "            x[c]=r*np.cos(theta[c])\n",
    "            y[c]=r*np.sin(theta[c])\n",
    "    r=p/(1+(e*np.cos(f)))\n",
    "    xSat=r*np.cos(f)\n",
    "    ySat=r*np.sin(f)\n",
    "    sat = plt.Circle((xSat,ySat),a*.03)\n",
    "    sat.set_facecolor('r')\n",
    "    plt.plot(x,y)\n",
    "    plt.axis('equal')\n",
    "    plt.grid('on')\n",
    "    plt.title('Orbit')\n",
    "    ofig=plt.gcf()\n",
    "    ofigax=ofig.gca()\n",
    "    ofigax.add_artist(planet)\n",
    "    ofigax.add_artist(sat)\n",
    "    return vals,x,y\n",
    "\n",
    "def getOrientation(Omega,i,omega,x,y,a):\n",
    "    e=a[0]\n",
    "    f=a[2]\n",
    "    a=a[1]\n",
    "    \n",
    "    X=np.zeros(len(x))\n",
    "    Y=np.zeros(len(x))\n",
    "    Z=np.zeros(len(x))\n",
    "    a11=(np.cos(omega)*np.cos(Omega))-(np.sin(omega)*np.cos(i)*np.sin(Omega))\n",
    "    a12=(np.cos(omega)*np.sin(Omega))+(np.sin(omega)*np.cos(i)*np.cos(Omega))\n",
    "    a13=np.sin(omega)*np.sin(i)\n",
    "    a21=(-np.sin(omega)*np.cos(Omega))-(np.cos(omega)*np.cos(i)*np.sin(Omega))\n",
    "    a22=(-np.sin(omega)*np.sin(Omega))+(np.cos(omega)*np.cos(i)*np.cos(Omega))\n",
    "    a23=np.cos(omega)*np.sin(i)\n",
    "    a31=np.sin(i)*np.sin(Omega)\n",
    "    a32=-np.sin(i)*np.cos(Omega)\n",
    "    a33=np.cos(i)\n",
    "    DCM313T = np.matrix([[a11,a21,a31],\n",
    "                       [a12,a22,a32],\n",
    "                       [a13,a23,a33]])\n",
    "    for c in range((len(x))):\n",
    "        orbit = np.array([[x[c]],\n",
    "                       [y[c]],\n",
    "                       [0]])\n",
    "        Inert= DCM313T*orbit\n",
    "        #print(Inert)\n",
    "        X[c]=Inert[0]\n",
    "        Y[c]=Inert[1]\n",
    "        Z[c]=Inert[2]\n",
    "        \n",
    "    \n",
    "\n",
    "    \n",
    "    orb = plt.figure()\n",
    "    ax = orb.add_subplot(111, projection='3d')\n",
    "    ax.plot3D(X,Y,Z)\n",
    "    ax.scatter(0,0,0,s=a*(.06**2), color='black')\n",
    "    ax.set_xlim3d(-a, a)\n",
    "    ax.set_ylim3d(-a, a)\n",
    "    ax.set_zlim3d(-a, a)\n",
    "    return(X,Y,Z)\n"
   ]
  },
  {
   "cell_type": "code",
   "execution_count": 14,
   "metadata": {
    "scrolled": false
   },
   "outputs": [
    {
     "data": {
      "application/vnd.jupyter.widget-view+json": {
       "model_id": "13dac96788614300aa2c192815ec323a",
       "version_major": 2,
       "version_minor": 0
      },
      "text/html": [
       "<p>Failed to display Jupyter Widget of type <code>interactive</code>.</p>\n",
       "<p>\n",
       "  If you're reading this message in the Jupyter Notebook or JupyterLab Notebook, it may mean\n",
       "  that the widgets JavaScript is still loading. If this message persists, it\n",
       "  likely means that the widgets JavaScript library is either not installed or\n",
       "  not enabled. See the <a href=\"https://ipywidgets.readthedocs.io/en/stable/user_install.html\">Jupyter\n",
       "  Widgets Documentation</a> for setup instructions.\n",
       "</p>\n",
       "<p>\n",
       "  If you're reading this message in another frontend (for example, a static\n",
       "  rendering on GitHub or <a href=\"https://nbviewer.jupyter.org/\">NBViewer</a>),\n",
       "  it may mean that your frontend doesn't currently support widgets.\n",
       "</p>\n"
      ],
      "text/plain": [
       "interactive(children=(FloatSlider(value=0.55, description='e', max=1.1), IntSlider(value=50000, description='a', max=100000), FloatSlider(value=0.0, description='f', max=3.14, min=-3.14), Output()), _dom_classes=('widget-interact',))"
      ]
     },
     "metadata": {},
     "output_type": "display_data"
    }
   ],
   "source": [
    "orbitEA=interactive(getEA,e=(0,1.1), a=(0,100000),f=(-3.14,3.14));\n",
    "display(orbitEA)"
   ]
  },
  {
   "cell_type": "code",
   "execution_count": 15,
   "metadata": {
    "scrolled": true
   },
   "outputs": [
    {
     "data": {
      "application/vnd.jupyter.widget-view+json": {
       "model_id": "b530ba73bb584a079431cdfe1e3401b3",
       "version_major": 2,
       "version_minor": 0
      },
      "text/html": [
       "<p>Failed to display Jupyter Widget of type <code>interactive</code>.</p>\n",
       "<p>\n",
       "  If you're reading this message in the Jupyter Notebook or JupyterLab Notebook, it may mean\n",
       "  that the widgets JavaScript is still loading. If this message persists, it\n",
       "  likely means that the widgets JavaScript library is either not installed or\n",
       "  not enabled. See the <a href=\"https://ipywidgets.readthedocs.io/en/stable/user_install.html\">Jupyter\n",
       "  Widgets Documentation</a> for setup instructions.\n",
       "</p>\n",
       "<p>\n",
       "  If you're reading this message in another frontend (for example, a static\n",
       "  rendering on GitHub or <a href=\"https://nbviewer.jupyter.org/\">NBViewer</a>),\n",
       "  it may mean that your frontend doesn't currently support widgets.\n",
       "</p>\n"
      ],
      "text/plain": [
       "interactive(children=(FloatSlider(value=0.0, description='Omega', max=3.14, min=-3.14), FloatSlider(value=0.0, description='i', max=3.14, min=-3.14), FloatSlider(value=0.0, description='omega', max=3.14, min=-3.14), Output()), _dom_classes=('widget-interact',))"
      ]
     },
     "metadata": {},
     "output_type": "display_data"
    }
   ],
   "source": [
    "orbitEarth= interactive(getOrientation,Omega=(-3.14,3.14),i=(-3.14,3.14),omega=(-3.14,3.14),x=fixed(orbitEA.result[1]),y=fixed(orbitEA.result[2]),a=fixed(orbitEA.result[0]))\n",
    "display(orbitEarth)"
   ]
  },
  {
   "cell_type": "code",
   "execution_count": null,
   "metadata": {},
   "outputs": [],
   "source": []
  },
  {
   "cell_type": "code",
   "execution_count": null,
   "metadata": {},
   "outputs": [],
   "source": []
  }
 ],
 "metadata": {
  "kernelspec": {
   "display_name": "Python 3",
   "language": "python",
   "name": "python3"
  },
  "language_info": {
   "codemirror_mode": {
    "name": "ipython",
    "version": 3
   },
   "file_extension": ".py",
   "mimetype": "text/x-python",
   "name": "python",
   "nbconvert_exporter": "python",
   "pygments_lexer": "ipython3",
   "version": "3.6.4"
  }
 },
 "nbformat": 4,
 "nbformat_minor": 2
}
